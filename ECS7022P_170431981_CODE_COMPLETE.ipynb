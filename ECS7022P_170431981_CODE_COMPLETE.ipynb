{
  "nbformat": 4,
  "nbformat_minor": 0,
  "metadata": {
    "colab": {
      "name": "ECS7022P-170431981-CODE-COMPLETE.ipynb",
      "provenance": [],
      "collapsed_sections": [],
      "authorship_tag": "ABX9TyPr6m+xFd84b83QNs5/dM6w",
      "include_colab_link": true
    },
    "kernelspec": {
      "name": "python3",
      "display_name": "Python 3"
    },
    "language_info": {
      "name": "python"
    },
    "accelerator": "GPU"
  },
  "cells": [
    {
      "cell_type": "markdown",
      "metadata": {
        "id": "view-in-github",
        "colab_type": "text"
      },
      "source": [
        "<a href=\"https://colab.research.google.com/github/TarekQMUL/ECS7022P_Poetry_Generation/blob/main/ECS7022P_170431981_CODE_COMPLETE.ipynb\" target=\"_parent\"><img src=\"https://colab.research.google.com/assets/colab-badge.svg\" alt=\"Open In Colab\"/></a>"
      ]
    },
    {
      "cell_type": "markdown",
      "source": [
        "Code developed by Tarek Ahmed QMUL for Module Computational Creativity ECS7022P\n",
        "\n",
        "Final project Code developed from resources such as RNN lab 3, Allison Parish Tutorial, Text Generation Shakespere by Oleksii Trekhleb and knowledge from research Links to source below:\n",
        "\n"
      ],
      "metadata": {
        "id": "yQ8ly01iBJXI"
      }
    },
    {
      "cell_type": "code",
      "execution_count": null,
      "metadata": {
        "colab": {
          "base_uri": "https://localhost:8080/"
        },
        "id": "sRij_s99Tw1g",
        "outputId": "85e97ac5-aceb-46a7-dd7a-27f339b6cb12"
      },
      "outputs": [
        {
          "output_type": "stream",
          "name": "stdout",
          "text": [
            "Collecting pronouncing\n",
            "  Downloading pronouncing-0.2.0.tar.gz (17 kB)\n",
            "Collecting cmudict>=0.4.0\n",
            "  Downloading cmudict-1.0.2-py2.py3-none-any.whl (939 kB)\n",
            "\u001b[K     |████████████████████████████████| 939 kB 37.8 MB/s \n",
            "\u001b[?25hBuilding wheels for collected packages: pronouncing\n",
            "  Building wheel for pronouncing (setup.py) ... \u001b[?25l\u001b[?25hdone\n",
            "  Created wheel for pronouncing: filename=pronouncing-0.2.0-py2.py3-none-any.whl size=6252 sha256=d2e29cd12948850c02442b7f7c64961fde800fd0665223435b8c1a2e7607500e\n",
            "  Stored in directory: /root/.cache/pip/wheels/09/e8/c0/3606d42fdbf5f3871564eb6a353591a8f5deeed013fdb73921\n",
            "Successfully built pronouncing\n",
            "Installing collected packages: cmudict, pronouncing\n",
            "Successfully installed cmudict-1.0.2 pronouncing-0.2.0\n"
          ]
        }
      ],
      "source": [
        "#@title Imports\n",
        "\n",
        "import tensorflow as tf\n",
        "import numpy as np\n",
        "import random\n",
        "import os\n",
        "import gzip, json\n",
        "import pandas as pd\n",
        "import csv\n",
        "from keras import regularizers\n",
        "import keras.utils as ku \n",
        "from keras.layers import Activation\n",
        "from keras.utils import np_utils\n",
        "import matplotlib.pyplot as plt\n",
        "from keras.layers import Embedding, LSTM, Dense, Dropout, Bidirectional\n",
        "from keras.models import Sequential\n",
        "!pip install pronouncing\n",
        "import pronouncing\n",
        "import string\n",
        "from collections import defaultdict\n",
        "import re, os"
      ]
    },
    {
      "cell_type": "code",
      "source": [
        "device_name = tf.test.gpu_device_name()\n",
        "print('Found GPU at: {}'.format(device_name))\n",
        "\n",
        "print(tf.__version__)\n",
        "!nvidia-smi -L"
      ],
      "metadata": {
        "id": "y6maSF32nJn2",
        "colab": {
          "base_uri": "https://localhost:8080/"
        },
        "outputId": "f33a15a6-919f-45e0-dc55-989ffc8fb279"
      },
      "execution_count": null,
      "outputs": [
        {
          "output_type": "stream",
          "name": "stdout",
          "text": [
            "Found GPU at: /device:GPU:0\n",
            "2.8.0\n",
            "GPU 0: Tesla T4 (UUID: GPU-2da5588c-c52f-7af0-22a6-25244a3ebee7)\n"
          ]
        }
      ]
    },
    {
      "cell_type": "code",
      "source": [
        "#@title Save checkpoints during training\n",
        "\n",
        "from google.colab import drive\n",
        "drive.mount('/content/gdrive')\n",
        "\n",
        "# Directory where the checkpoints will be saved\n",
        "path = 'My Drive/ECS7022P_FINAL_PROJECT/ECS7022P-checkpoints/' #@param{type: 'string'}\n",
        "full_path = \"/content/gdrive/\" + path + \"ckpt_{epoch}\" \n",
        "\n",
        "checkpoint_callback = tf.keras.callbacks.ModelCheckpoint(\n",
        "                      filepath=full_path,\n",
        "                      save_weights_only=True)"
      ],
      "metadata": {
        "colab": {
          "base_uri": "https://localhost:8080/"
        },
        "id": "XIW7euV7b0Et",
        "outputId": "f2b4ac3b-d3f9-424e-8154-19c16013bd85"
      },
      "execution_count": null,
      "outputs": [
        {
          "output_type": "stream",
          "name": "stdout",
          "text": [
            "Mounted at /content/gdrive\n"
          ]
        }
      ]
    },
    {
      "cell_type": "markdown",
      "source": [
        "Retrive The Dataset"
      ],
      "metadata": {
        "id": "Kq4lPKzMuyfb"
      }
    },
    {
      "cell_type": "code",
      "source": [
        "# Reference Allison Parrish \n",
        "!curl -O http://static.decontextualize.com/gutenberg-poetry-v001.ndjson.gz"
      ],
      "metadata": {
        "colab": {
          "base_uri": "https://localhost:8080/"
        },
        "id": "QMT1F_-LUDOg",
        "outputId": "51f59d4a-2e78-416c-f07f-13c2cf8f1549"
      },
      "execution_count": null,
      "outputs": [
        {
          "output_type": "stream",
          "name": "stdout",
          "text": [
            "  % Total    % Received % Xferd  Average Speed   Time    Time     Time  Current\n",
            "                                 Dload  Upload   Total   Spent    Left  Speed\n",
            "100 52.2M  100 52.2M    0     0  81.3M      0 --:--:-- --:--:-- --:--:-- 81.2M\n"
          ]
        }
      ]
    },
    {
      "cell_type": "markdown",
      "source": [
        "Place data into a List"
      ],
      "metadata": {
        "id": "yMFZ5Q2avTM4"
      }
    },
    {
      "cell_type": "code",
      "source": [
        "# Reference Allison Parrish\n",
        "all_dataset_lines = []\n",
        "for line in gzip.open(\"gutenberg-poetry-v001.ndjson.gz\"):\n",
        "    all_dataset_lines.append(json.loads(line.strip()))"
      ],
      "metadata": {
        "id": "_kfHDZMXUHlI"
      },
      "execution_count": null,
      "outputs": []
    },
    {
      "cell_type": "markdown",
      "source": [
        "Create Dictionary of Rhyming sentences"
      ],
      "metadata": {
        "id": "NQgsDaQsv7Nu"
      }
    },
    {
      "cell_type": "code",
      "source": [
        "# Reference Allison Parrish\n",
        "by_rhyming_part = defaultdict(lambda: defaultdict(list))\n",
        "for line in all_dataset_lines:\n",
        "    text = line['s']\n",
        "    if not(32 < len(text) < 48): # only use lines of uniform lengths\n",
        "        continue\n",
        "    match = re.search(r'(\\b\\w+\\b)\\W*$', text)\n",
        "    if match:\n",
        "        last_word = match.group()\n",
        "        pronunciations = pronouncing.phones_for_word(last_word)\n",
        "        if len(pronunciations) > 0:\n",
        "            rhyming_part = pronouncing.rhyming_part(pronunciations[0])\n",
        "            # group by rhyming phones (for rhymes) and words (to avoid duplicate words)\n",
        "            by_rhyming_part[rhyming_part][last_word.lower()].append(text)"
      ],
      "metadata": {
        "id": "rlJdZ1-Bff0u"
      },
      "execution_count": null,
      "outputs": []
    },
    {
      "cell_type": "markdown",
      "source": [
        "Group the rhyming data"
      ],
      "metadata": {
        "id": "yjllwsXqwKU8"
      }
    },
    {
      "cell_type": "code",
      "source": [
        "# reference Allison Parrish\n",
        "rhyme_groups = [group for group in by_rhyming_part.values() if len(group) >= 2]"
      ],
      "metadata": {
        "id": "XYBG8dgnhnHT"
      },
      "execution_count": null,
      "outputs": []
    },
    {
      "cell_type": "markdown",
      "source": [
        "Create rhyming couplets"
      ],
      "metadata": {
        "id": "khXs8E8twa7L"
      }
    },
    {
      "cell_type": "code",
      "source": [
        "# reference Modified Allison parish\n",
        "Num_of_lines = 20000#@param{type: \"integer\"}\n",
        "feed_data = int(Num_of_lines/2)\n",
        "fulldata = []\n",
        "for i in range(feed_data):\n",
        "    group = random.choice(rhyme_groups)\n",
        "    words = random.sample(list(group.keys()), 2)\n",
        "    setA = random.choice(group[words[0]])\n",
        "    setB = random.choice(group[words[1]])\n",
        "    \n",
        "    datasetTest = setA + \"\\n\" + setB\n",
        "    fulldata.append(datasetTest)\n",
        "\n",
        "#print(fulldata)\n"
      ],
      "metadata": {
        "id": "uvkrdeJehnlA"
      },
      "execution_count": null,
      "outputs": []
    },
    {
      "cell_type": "markdown",
      "source": [
        "Save Dataset to CSV"
      ],
      "metadata": {
        "id": "jGvvOcxHwu2D"
      }
    },
    {
      "cell_type": "code",
      "source": [
        "dataset_poems = pd.DataFrame(fulldata)\n",
        "\n",
        "dataset_path = 'My Drive/ECS7022P_FINAL_PROJECT/' #@param{type: 'string'}\n",
        "full_dataset_path = \"/content/gdrive/\"  + dataset_path + \"dataset.csv\"\n",
        "\n",
        "dataset_poems.to_csv(full_dataset_path, index=False,header=False)\n",
        "print(\"Dataset saved to drive \\n\")\n",
        "dataset_poems.to_csv('dataset.csv', index=False,header=False)\n",
        "print(\"Dataset saved to runtime \\n\")\n",
        "\n",
        "print(\"Number of lines present:-\", \n",
        "      len(dataset_poems) * 2)"
      ],
      "metadata": {
        "colab": {
          "base_uri": "https://localhost:8080/"
        },
        "id": "TYcdj_5dkxhQ",
        "outputId": "af73a13d-92e0-4edb-f365-5779f87e450e"
      },
      "execution_count": null,
      "outputs": [
        {
          "output_type": "stream",
          "name": "stdout",
          "text": [
            "Dataset saved to drive \n",
            "\n",
            "Dataset saved to runtime \n",
            "\n",
            "Number of lines present:- 20000\n"
          ]
        }
      ]
    },
    {
      "cell_type": "markdown",
      "source": [
        "Load Dataset from CSV;\n",
        "\n",
        "If running for the first time set preload_dataset to false\n",
        "If running from pretrained model set preload_dataset to true\n",
        "\n",
        "Note to examiner: when using pretrained model it may not allow you to use the path provided as it is saved to my google drive, i have linked the folder so you can copy the model checkpoint and dataset to your drive to run the project."
      ],
      "metadata": {
        "id": "v2eEM2xtylui"
      }
    },
    {
      "cell_type": "code",
      "source": [
        "preload_dataset = False #@param [\"False\",\"True\"]{type:\"raw\"}\n",
        "if preload_dataset == True:\n",
        "  path_to_file = full_dataset_path\n",
        "  print(\"Using Preloaded dataset \\n\")\n",
        "else:\n",
        "  path_to_file = 'dataset.csv'\n",
        "  print(\"Using runtime dataset \\n\")\n",
        "\n",
        "path_to_file = 'dataset.csv'\n",
        "text = open(path_to_file, 'rb').read().decode(encoding='utf-8')\n",
        "text = text.lower()\n",
        "text = text.replace('\"', \" \")\n",
        "text = text.replace('(', \" \")\n",
        "text = text.replace(')', \" \")\n",
        "text = text.replace('!', \"\")\n",
        "text = text.replace('?', \"\")\n",
        "#text = text.replace('\\n', \":\")\n",
        "text = text.replace('  ', \" \")\n",
        "text = text.replace('y^t', \"yet\")\n",
        "text = text.replace('^', \"\")\n",
        "text = text.replace('_', \" \")\n",
        "# The length of text is the number of characters in it\n",
        "#print(text)\n",
        "\n"
      ],
      "metadata": {
        "id": "yt2KwX_Iaway",
        "colab": {
          "base_uri": "https://localhost:8080/"
        },
        "outputId": "2451eb97-b98f-454b-eb65-900497aefaff"
      },
      "execution_count": null,
      "outputs": [
        {
          "output_type": "stream",
          "name": "stdout",
          "text": [
            "Using runtime dataset \n",
            "\n"
          ]
        }
      ]
    },
    {
      "cell_type": "code",
      "source": [
        "# Reference Lab 3 RNN\n",
        "# compute the list of all unique characters in the file\n",
        "vocabulary = sorted(set(text))\n",
        "\n",
        "# create the 2 data structures\n",
        "char2idx = {u:i for i, u in enumerate(vocabulary)}\n",
        "idx2char = np.array(vocabulary)\n"
      ],
      "metadata": {
        "id": "8mEqhg6zbHR9"
      },
      "execution_count": null,
      "outputs": []
    },
    {
      "cell_type": "code",
      "source": [
        "# Reference Lab 3 RNN\n",
        "#@title Dataset parameters\n",
        "\n",
        "# batch size, default: 64\n",
        "BATCH_SIZE = 32  # @param {type: \"integer\"}\n",
        "# buffer size to shuffle our dataset, default 10000\n",
        "BUFFER_SIZE = 10000  # @param {type: \"integer\"}\n",
        "# number of RNN units, default 1024\n",
        "N_RNN_UNITS =   1024# @param {type: \"integer\"}\n",
        "# length of text chunks for training, default 100\n",
        "MAX_LENGTH =   100# @param {type: \"integer\"}\n",
        "# size of the embedding layer, default 256\n",
        "EMBEDDING_DIM = 256    # @param {type: \"integer\"}\n",
        "\n",
        "VOCAB_SIZE = len(vocabulary)  # length of the vocabulary in chars\n",
        "print(\"Batch size: {} \\nBuffer size: {} \\n# RNN Units: {}\\\n",
        "       \\nMax input length: {} \\nVocabulary size: {} \\nEmbedding dimension: {}\".format(\n",
        "            BATCH_SIZE, BUFFER_SIZE, N_RNN_UNITS, MAX_LENGTH, VOCAB_SIZE, EMBEDDING_DIM\n",
        "        )\n",
        ")"
      ],
      "metadata": {
        "colab": {
          "base_uri": "https://localhost:8080/"
        },
        "id": "ZL5dafYRbM3d",
        "outputId": "b4a3f62f-3e39-4354-fc17-0136a36e432e"
      },
      "execution_count": null,
      "outputs": [
        {
          "output_type": "stream",
          "name": "stdout",
          "text": [
            "Batch size: 32 \n",
            "Buffer size: 10000 \n",
            "# RNN Units: 1024       \n",
            "Max input length: 100 \n",
            "Vocabulary size: 94 \n",
            "Embedding dimension: 256\n"
          ]
        }
      ]
    },
    {
      "cell_type": "code",
      "source": [
        "# Reference Lab 3 RNN\n",
        "#@title Obtaining input and target data\n",
        "\n",
        "input_text = []\n",
        "target_text = []\n",
        "\n",
        "for c in range(0, len(text)-MAX_LENGTH, MAX_LENGTH):\n",
        "    inps = text[c : c + MAX_LENGTH]\n",
        "    tars = text[c + 1 : c + 1 + MAX_LENGTH]\n",
        "\n",
        "    input_text.append([char2idx[i] for i in inps])\n",
        "    target_text.append([char2idx[t] for t in tars])\n",
        "    \n",
        "print (np.array(input_text).shape)\n",
        "print (np.array(target_text).shape)"
      ],
      "metadata": {
        "colab": {
          "base_uri": "https://localhost:8080/"
        },
        "id": "m-bruMxObOyn",
        "outputId": "54217222-4e8c-45c5-a160-4b724c1544b2"
      },
      "execution_count": null,
      "outputs": [
        {
          "output_type": "stream",
          "name": "stdout",
          "text": [
            "(8270, 100)\n",
            "(8270, 100)\n"
          ]
        }
      ]
    },
    {
      "cell_type": "code",
      "source": [
        "# Reference Lab 3 RNN\n",
        "#@title Batch datasets\n",
        "dataset = tf.data.Dataset.from_tensor_slices((input_text, target_text))\n",
        "dataset = dataset.batch(BATCH_SIZE, drop_remainder=True)\n",
        "\n",
        "dataset"
      ],
      "metadata": {
        "colab": {
          "base_uri": "https://localhost:8080/"
        },
        "id": "a6BuEuQybQ-O",
        "outputId": "4fcff7b5-ab54-4f48-974f-fd31e818f2e4"
      },
      "execution_count": null,
      "outputs": [
        {
          "output_type": "execute_result",
          "data": {
            "text/plain": [
              "<BatchDataset element_spec=(TensorSpec(shape=(32, 100), dtype=tf.int32, name=None), TensorSpec(shape=(32, 100), dtype=tf.int32, name=None))>"
            ]
          },
          "metadata": {},
          "execution_count": 14
        }
      ]
    },
    {
      "cell_type": "markdown",
      "source": [
        "Create LSTM Model"
      ],
      "metadata": {
        "id": "5n4SLxdxzZDC"
      }
    },
    {
      "cell_type": "code",
      "source": [
        "def loss_function(labels, logits):\n",
        "    return tf.keras.losses.sparse_categorical_crossentropy(labels, logits, from_logits=True)\n",
        "\n",
        "def build_model(vocab_size=VOCAB_SIZE, embedding_dim=EMBEDDING_DIM, n_rnn_units=N_RNN_UNITS, batch_size=BATCH_SIZE):\n",
        "    model = Sequential()\n",
        "    model.add(Embedding(vocab_size,embedding_dim , batch_input_shape=[batch_size, None]))\n",
        "    model.add(LSTM(n_rnn_units, return_sequences=True, stateful=True))\n",
        "    model.add(Dropout(0.2))\n",
        "    model.add(Dense(n_rnn_units, activation='relu')),\n",
        "    model.add(Dense(vocab_size))\n",
        "\n",
        "    model.summary()\n",
        "    return model\n",
        "\n",
        "model = build_model()\n",
        "\n",
        "\n",
        "# the learning decay functionw was implemented with the help of the lin below\n",
        "#https://stackoverflow.com/questions/61552475/properly-set-up-exponential-decay-of-learning-rate-in-tensorflow\n",
        "initial_learning_rate = 0.001#@param{type:\"raw\"}\n",
        "final_learning_rate = 0.001  #@param{type:\"raw\"}\n",
        "\n",
        "opt_beta = 0.9 #@param{type:\"raw\"}\n",
        "no_of_epochs =  50# @param{type: \"integer\"} \n",
        "\n",
        "learning_rate_decay_factor = (final_learning_rate / initial_learning_rate)**(1/no_of_epochs)\n",
        "steps_per_epoch = int(MAX_LENGTH/BATCH_SIZE)\n",
        "\n",
        "lr_schedule = tf.keras.optimizers.schedules.ExponentialDecay(\n",
        "                initial_learning_rate=initial_learning_rate,\n",
        "                decay_steps=steps_per_epoch,\n",
        "                decay_rate=learning_rate_decay_factor,\n",
        "                staircase=True)\n",
        "\n",
        "optimizer = tf.keras.optimizers.Adam(lr_schedule, beta_1=opt_beta)\n",
        "model.compile(optimizer,loss=loss_function ,metrics=['accuracy'])"
      ],
      "metadata": {
        "id": "vOWCIHRQbs8I",
        "colab": {
          "base_uri": "https://localhost:8080/"
        },
        "outputId": "da5ce8d0-e12f-45a6-e75f-7b87e5860afb"
      },
      "execution_count": null,
      "outputs": [
        {
          "output_type": "stream",
          "name": "stdout",
          "text": [
            "Model: \"sequential\"\n",
            "_________________________________________________________________\n",
            " Layer (type)                Output Shape              Param #   \n",
            "=================================================================\n",
            " embedding (Embedding)       (32, None, 256)           24064     \n",
            "                                                                 \n",
            " lstm (LSTM)                 (32, None, 1024)          5246976   \n",
            "                                                                 \n",
            " dropout (Dropout)           (32, None, 1024)          0         \n",
            "                                                                 \n",
            " dense (Dense)               (32, None, 1024)          1049600   \n",
            "                                                                 \n",
            " dense_1 (Dense)             (32, None, 94)            96350     \n",
            "                                                                 \n",
            "=================================================================\n",
            "Total params: 6,416,990\n",
            "Trainable params: 6,416,990\n",
            "Non-trainable params: 0\n",
            "_________________________________________________________________\n"
          ]
        }
      ]
    },
    {
      "cell_type": "markdown",
      "source": [
        "Display Model Structure"
      ],
      "metadata": {
        "id": "ReOnhXzdzrSM"
      }
    },
    {
      "cell_type": "code",
      "source": [
        "tf.keras.utils.plot_model(model, to_file='model.png', show_shapes=True, show_layer_names=False)"
      ],
      "metadata": {
        "colab": {
          "base_uri": "https://localhost:8080/",
          "height": 644
        },
        "id": "DoxeaMh8bvoq",
        "outputId": "6c395bfc-d00b-4b25-896a-e4c3385272f4"
      },
      "execution_count": null,
      "outputs": [
        {
          "output_type": "execute_result",
          "data": {
            "text/plain": [
              "<IPython.core.display.Image object>"
            ],
            "image/png": "[encoded data removed]"
          },
          "metadata": {},
          "execution_count": 16
        }
      ]
    },
    {
      "cell_type": "code",
      "source": [
        "# Reference Lab 3 RNN\n",
        "#@title Test configuration with one example\n",
        "\n",
        "for input_example_batch, target_example_batch in dataset.take(1):\n",
        "    # Run the batch through the model\n",
        "    example_batch_predictions = model(input_example_batch)\n",
        "\n",
        "    # Print output shape\n",
        "    print(example_batch_predictions.shape, \"# (batch_size, sequence_length, vocab_size)\")\n",
        "\n",
        "    # To get the predictions, sample over the output distribution\n",
        "    sampled_indices = tf.random.categorical(example_batch_predictions[0], num_samples=1)\n",
        "    sampled_indices = tf.squeeze(sampled_indices,axis=-1).numpy() \n",
        "    \n",
        "    # Decode the indices to see the text predicted by the (untrained) model\n",
        "    print(\"Input: \\n\", repr(\"\".join(idx2char[input_example_batch[0]])), \"\\n\")\n",
        "    print(\"Next Char Predictions: \\n\", repr(\"\".join(idx2char[sampled_indices])))"
      ],
      "metadata": {
        "colab": {
          "base_uri": "https://localhost:8080/"
        },
        "id": "ZFKynWhrbxpP",
        "outputId": "e78f8d43-5c86-45fa-b37d-e29b32e57988"
      },
      "execution_count": null,
      "outputs": [
        {
          "output_type": "stream",
          "name": "stdout",
          "text": [
            "(32, 100, 94) # (batch_size, sequence_length, vocab_size)\n",
            "Input: \n",
            " ' the folk flowed in, and ober-cassel\\nah could you but enter my castle \\n this calico mare both gallop' \n",
            "\n",
            "Next Char Predictions: \n",
            " \"śé.ps.óëþwôo&yâ|2:pśq—s†uò0 ]*cëîlp4a34à].ê câæ\\nô]yßi]*f=z=—2w/:[ôatx0ïó*äq†/w|8ó's5*ħ&üçr{ú9anékëëk\"\n"
          ]
        }
      ]
    },
    {
      "cell_type": "code",
      "source": [
        "#@title Train the model\n",
        "\n",
        "# default: 50\n",
        "history = model.fit(dataset, epochs=no_of_epochs, callbacks=[checkpoint_callback])"
      ],
      "metadata": {
        "colab": {
          "base_uri": "https://localhost:8080/"
        },
        "id": "T4iozjdJb3HK",
        "outputId": "e211667a-ebc3-442a-b8d3-75d48f69067d"
      },
      "execution_count": null,
      "outputs": [
        {
          "output_type": "stream",
          "name": "stdout",
          "text": [
            "Epoch 1/50\n",
            "258/258 [==============================] - 15s 45ms/step - loss: 2.5790 - accuracy: 0.2714\n",
            "Epoch 2/50\n",
            "258/258 [==============================] - 12s 45ms/step - loss: 2.0276 - accuracy: 0.3935\n",
            "Epoch 3/50\n",
            "258/258 [==============================] - 12s 46ms/step - loss: 1.8480 - accuracy: 0.4378\n",
            "Epoch 4/50\n",
            "258/258 [==============================] - 12s 46ms/step - loss: 1.7224 - accuracy: 0.4714\n",
            "Epoch 5/50\n",
            "258/258 [==============================] - 12s 46ms/step - loss: 1.6156 - accuracy: 0.5010\n",
            "Epoch 6/50\n",
            "258/258 [==============================] - 12s 46ms/step - loss: 1.5152 - accuracy: 0.5305\n",
            "Epoch 7/50\n",
            "258/258 [==============================] - 12s 47ms/step - loss: 1.4137 - accuracy: 0.5622\n",
            "Epoch 8/50\n",
            "258/258 [==============================] - 12s 47ms/step - loss: 1.3107 - accuracy: 0.5950\n",
            "Epoch 9/50\n",
            "258/258 [==============================] - 12s 47ms/step - loss: 1.2078 - accuracy: 0.6279\n",
            "Epoch 10/50\n",
            "258/258 [==============================] - 12s 47ms/step - loss: 1.1103 - accuracy: 0.6575\n",
            "Epoch 11/50\n",
            "258/258 [==============================] - 12s 47ms/step - loss: 1.0237 - accuracy: 0.6848\n",
            "Epoch 12/50\n",
            "258/258 [==============================] - 12s 48ms/step - loss: 0.9433 - accuracy: 0.7091\n",
            "Epoch 13/50\n",
            "258/258 [==============================] - 12s 48ms/step - loss: 0.8724 - accuracy: 0.7295\n",
            "Epoch 14/50\n",
            "258/258 [==============================] - 12s 48ms/step - loss: 0.8109 - accuracy: 0.7481\n",
            "Epoch 15/50\n",
            "258/258 [==============================] - 13s 49ms/step - loss: 0.7569 - accuracy: 0.7636\n",
            "Epoch 16/50\n",
            "258/258 [==============================] - 13s 49ms/step - loss: 0.7089 - accuracy: 0.7780\n",
            "Epoch 17/50\n",
            "258/258 [==============================] - 12s 48ms/step - loss: 0.6698 - accuracy: 0.7889\n",
            "Epoch 18/50\n",
            "258/258 [==============================] - 13s 49ms/step - loss: 0.6329 - accuracy: 0.8000\n",
            "Epoch 19/50\n",
            "258/258 [==============================] - 13s 48ms/step - loss: 0.6030 - accuracy: 0.8085\n",
            "Epoch 20/50\n",
            "258/258 [==============================] - 13s 49ms/step - loss: 0.5732 - accuracy: 0.8172\n",
            "Epoch 21/50\n",
            "258/258 [==============================] - 13s 48ms/step - loss: 0.5501 - accuracy: 0.8236\n",
            "Epoch 22/50\n",
            "258/258 [==============================] - 13s 49ms/step - loss: 0.5305 - accuracy: 0.8296\n",
            "Epoch 23/50\n",
            "258/258 [==============================] - 13s 48ms/step - loss: 0.5123 - accuracy: 0.8347\n",
            "Epoch 24/50\n",
            "258/258 [==============================] - 13s 49ms/step - loss: 0.4934 - accuracy: 0.8402\n",
            "Epoch 25/50\n",
            "258/258 [==============================] - 13s 49ms/step - loss: 0.4811 - accuracy: 0.8439\n",
            "Epoch 26/50\n",
            "258/258 [==============================] - 13s 50ms/step - loss: 0.4667 - accuracy: 0.8477\n",
            "Epoch 27/50\n",
            "258/258 [==============================] - 13s 50ms/step - loss: 0.4567 - accuracy: 0.8506\n",
            "Epoch 28/50\n",
            "258/258 [==============================] - 13s 49ms/step - loss: 0.4462 - accuracy: 0.8540\n",
            "Epoch 29/50\n",
            "258/258 [==============================] - 13s 49ms/step - loss: 0.4362 - accuracy: 0.8572\n",
            "Epoch 30/50\n",
            "258/258 [==============================] - 12s 48ms/step - loss: 0.4271 - accuracy: 0.8598\n",
            "Epoch 31/50\n",
            "258/258 [==============================] - 13s 49ms/step - loss: 0.4188 - accuracy: 0.8619\n",
            "Epoch 32/50\n",
            "258/258 [==============================] - 13s 49ms/step - loss: 0.4127 - accuracy: 0.8641\n",
            "Epoch 33/50\n",
            "258/258 [==============================] - 13s 50ms/step - loss: 0.4080 - accuracy: 0.8650\n",
            "Epoch 34/50\n",
            "258/258 [==============================] - 13s 49ms/step - loss: 0.4018 - accuracy: 0.8671\n",
            "Epoch 35/50\n",
            "258/258 [==============================] - 13s 48ms/step - loss: 0.3946 - accuracy: 0.8693\n",
            "Epoch 36/50\n",
            "258/258 [==============================] - 13s 49ms/step - loss: 0.3914 - accuracy: 0.8703\n",
            "Epoch 37/50\n",
            "258/258 [==============================] - 13s 50ms/step - loss: 0.3867 - accuracy: 0.8718\n",
            "Epoch 38/50\n",
            "258/258 [==============================] - 13s 50ms/step - loss: 0.3821 - accuracy: 0.8732\n",
            "Epoch 39/50\n",
            "258/258 [==============================] - 13s 48ms/step - loss: 0.3814 - accuracy: 0.8733\n",
            "Epoch 40/50\n",
            "258/258 [==============================] - 13s 49ms/step - loss: 0.3761 - accuracy: 0.8750\n",
            "Epoch 41/50\n",
            "258/258 [==============================] - 13s 49ms/step - loss: 0.3728 - accuracy: 0.8759\n",
            "Epoch 42/50\n",
            "258/258 [==============================] - 13s 49ms/step - loss: 0.3724 - accuracy: 0.8756\n",
            "Epoch 43/50\n",
            "258/258 [==============================] - 13s 49ms/step - loss: 0.3672 - accuracy: 0.8775\n",
            "Epoch 44/50\n",
            "258/258 [==============================] - 13s 49ms/step - loss: 0.3674 - accuracy: 0.8772\n",
            "Epoch 45/50\n",
            "258/258 [==============================] - 13s 49ms/step - loss: 0.3630 - accuracy: 0.8790\n",
            "Epoch 46/50\n",
            "258/258 [==============================] - 13s 48ms/step - loss: 0.3616 - accuracy: 0.8787\n",
            "Epoch 47/50\n",
            "258/258 [==============================] - 13s 49ms/step - loss: 0.3635 - accuracy: 0.8784\n",
            "Epoch 48/50\n",
            "258/258 [==============================] - 13s 50ms/step - loss: 0.3609 - accuracy: 0.8793\n",
            "Epoch 49/50\n",
            "258/258 [==============================] - 13s 50ms/step - loss: 0.3610 - accuracy: 0.8786\n",
            "Epoch 50/50\n",
            "258/258 [==============================] - 12s 48ms/step - loss: 0.3591 - accuracy: 0.8797\n"
          ]
        }
      ]
    },
    {
      "cell_type": "code",
      "source": [
        "#@title Model Accuracy\n",
        "accuracy = history.history['accuracy']\n",
        "\n",
        "epochs = range(len(accuracy))\n",
        "\n",
        "plt.plot(epochs, accuracy, 'b', label='Training accuracy')\n",
        "plt.title('Training accuracy')"
      ],
      "metadata": {
        "colab": {
          "base_uri": "https://localhost:8080/",
          "height": 298
        },
        "id": "Aq3QAtaC7Zr9",
        "outputId": "84a44125-aaae-40da-b612-f3196d6b8a8d"
      },
      "execution_count": null,
      "outputs": [
        {
          "output_type": "execute_result",
          "data": {
            "text/plain": [
              "Text(0.5, 1.0, 'Training accuracy')"
            ]
          },
          "metadata": {},
          "execution_count": 19
        },
        {
          "output_type": "display_data",
          "data": {
            "text/plain": [
              "<Figure size 432x288 with 1 Axes>"
            ],
            "image/png": "[encoded data removed]"
          },
          "metadata": {
            "needs_background": "light"
          }
        }
      ]
    },
    {
      "cell_type": "code",
      "source": [
        "#@title Model Loss\n",
        "loss = history.history['loss']\n",
        "epochs = range(len(loss))\n",
        "\n",
        "plt.plot(epochs, loss, 'b', label='Training accuracy')\n",
        "plt.title('Training Loss')"
      ],
      "metadata": {
        "colab": {
          "base_uri": "https://localhost:8080/",
          "height": 298
        },
        "id": "qOP0JoQEnxZJ",
        "outputId": "97e6637e-bdd2-4cda-cfe0-e21c30be3915"
      },
      "execution_count": null,
      "outputs": [
        {
          "output_type": "execute_result",
          "data": {
            "text/plain": [
              "Text(0.5, 1.0, 'Training Loss')"
            ]
          },
          "metadata": {},
          "execution_count": 20
        },
        {
          "output_type": "display_data",
          "data": {
            "text/plain": [
              "<Figure size 432x288 with 1 Axes>"
            ],
            "image/png": "[encoded data removed]"
          },
          "metadata": {
            "needs_background": "light"
          }
        }
      ]
    },
    {
      "cell_type": "code",
      "source": [
        "#Reference lab 3\n",
        "#@title Restore latest checkpoint and build model\n",
        "\n",
        "batch_size = 1\n",
        "\n",
        "model = build_model(batch_size=batch_size)\n",
        "model.load_weights(tf.train.latest_checkpoint(\"/content/gdrive/\" + path))\n",
        "model.build(tf.TensorShape([batch_size, None]))\n",
        "print(\"tensor shape\", tf.TensorShape([batch_size, None]))"
      ],
      "metadata": {
        "id": "tKIowYqRb9Li",
        "colab": {
          "base_uri": "https://localhost:8080/"
        },
        "outputId": "d2a87d81-3536-4715-b09f-4f3c36c48f96"
      },
      "execution_count": null,
      "outputs": [
        {
          "output_type": "stream",
          "name": "stdout",
          "text": [
            "Model: \"sequential_1\"\n",
            "_________________________________________________________________\n",
            " Layer (type)                Output Shape              Param #   \n",
            "=================================================================\n",
            " embedding_1 (Embedding)     (1, None, 256)            24064     \n",
            "                                                                 \n",
            " lstm_1 (LSTM)               (1, None, 1024)           5246976   \n",
            "                                                                 \n",
            " dropout_1 (Dropout)         (1, None, 1024)           0         \n",
            "                                                                 \n",
            " dense_2 (Dense)             (1, None, 1024)           1049600   \n",
            "                                                                 \n",
            " dense_3 (Dense)             (1, None, 94)             96350     \n",
            "                                                                 \n",
            "=================================================================\n",
            "Total params: 6,416,990\n",
            "Trainable params: 6,416,990\n",
            "Non-trainable params: 0\n",
            "_________________________________________________________________\n",
            "tensor shape (1, None)\n"
          ]
        }
      ]
    },
    {
      "cell_type": "code",
      "source": [
        "#Reference lab 3\n",
        "#@title Set up text generation function\n",
        "\n",
        "def generate_text(model, input_text, n_characters_output=300, top_k_sampling = 0,top_p_sampling = 0, temperature = 0):\n",
        "    # First, vectorize the input text as before\n",
        "    input_eval = [char2idx[s] for s in input_text]\n",
        "    input_eval = tf.expand_dims(input_eval, 0)\n",
        "\n",
        "    # We'll store results in this variable\n",
        "    text_generated = []\n",
        "\n",
        "    # Generate the number of characters desired\n",
        "    model.reset_states()\n",
        "    for i in range(n_characters_output):\n",
        "        # Run input through model\n",
        "        predictions = model(input_eval)\n",
        "\n",
        "        # Remove the batch dimension\n",
        "        predictions = tf.squeeze(predictions, 0)\n",
        "\n",
        "        # Using a categorical distribution to predict the character returned by the model\n",
        "        predicted_id = tf.random.categorical(predictions, num_samples=1)[-1,0].numpy()\n",
        "\n",
        "        # Pass the predicted character as the next input to the model\n",
        "        input_eval = tf.expand_dims([predicted_id], 0)\n",
        "\n",
        "        # Add the predicted character to the output\n",
        "        text_generated.append(idx2char[predicted_id])\n",
        "\n",
        "    # Return output\n",
        "    return (input_text + ''.join(text_generated))"
      ],
      "metadata": {
        "id": "bmzbdKwOb_Yn"
      },
      "execution_count": null,
      "outputs": []
    },
    {
      "cell_type": "code",
      "source": [
        "#@title Generated Text using Top P Sampling (Nucleus Sampling)\n",
        "\n",
        "input_text = \"what is a life\"  # @param {type: \"string\"}\n",
        "n_characters_output = 300 #@param \n",
        "top_p_params = 0.92 #@param {type:\"slider\", min:0, max:1,step:0.01}\n",
        "print(generate_text(model, input_text=input_text, n_characters_output=n_characters_output, top_k_sampling = 0,top_p_sampling = top_p_params, temperature = 0))"
      ],
      "metadata": {
        "id": "y5GH1cvIcDxy",
        "colab": {
          "base_uri": "https://localhost:8080/"
        },
        "outputId": "4eadbae7-e164-4650-eda2-7da0517ef969"
      },
      "execution_count": null,
      "outputs": [
        {
          "output_type": "stream",
          "name": "stdout",
          "text": [
            "what is a life had president \n",
            " down the slippery chamel sincers and infinity \n",
            " into the charities\n",
            "there are men to paint the inscrutable \n",
            " lay that i found a great and very reuses \n",
            " and or a wine with favoring winds\n",
            "flew up, nor miss'd his high faithfully are so found \n",
            " and all my two strong sit glassed\n",
            "i have al\n"
          ]
        }
      ]
    },
    {
      "cell_type": "code",
      "source": [
        "#@title Generated Text using Top K sampling\n",
        "\n",
        "input_text = \"tread softly because you tread on my dreams \"  # @param {type: \"string\"}\n",
        "n_characters_output = 300 #@param\n",
        "top_k_params =  7#@param \n",
        "print(generate_text(model, input_text=input_text, n_characters_output=n_characters_output, top_k_sampling = top_k_params,top_p_sampling = 0.92, temperature = 0))"
      ],
      "metadata": {
        "colab": {
          "base_uri": "https://localhost:8080/"
        },
        "id": "kKRpo0v-HHnv",
        "outputId": "c262b162-8e28-42ca-9fe1-af565f02481e"
      },
      "execution_count": null,
      "outputs": [
        {
          "output_type": "stream",
          "name": "stdout",
          "text": [
            "tread softly because you tread on my dreams ether blood \n",
            " that strip off all husks\n",
            "his mind should be dolly \n",
            " and shung the sky, and the strong scaffer \n",
            " of fathers and against the other, sons and saw went more appointment\n",
            "but works with dawn off the tell men compute \n",
            " me: et nothing forge all smooth \n",
            " to starry heights lift his entreaty\n",
            " whe\n"
          ]
        }
      ]
    },
    {
      "cell_type": "code",
      "source": [
        "#@title Generated Text using Temperature Sampling\n",
        "\n",
        "input_text = \"to be or not to be\"  # @param {type: \"string\"}\n",
        "n_characters_output = 300 #@param\n",
        "temperature_params = 1.2 #@param \n",
        "print(generate_text(model, input_text=input_text, n_characters_output=n_characters_output, top_k_sampling = 0,top_p_sampling = 0, temperature = temperature_params))"
      ],
      "metadata": {
        "colab": {
          "base_uri": "https://localhost:8080/"
        },
        "id": "3dQYJ-JDZ7Nm",
        "outputId": "10c9265f-b1a1-438d-ec0b-efa2a53f7f8a"
      },
      "execution_count": null,
      "outputs": [
        {
          "output_type": "stream",
          "name": "stdout",
          "text": [
            "to be or not to be soften \n",
            " what shall i launch my dusky little coracle\n",
            "when she stood trembling, as the oracle \n",
            " just like a black eye in the church archelance\n",
            "he that has love there some are so small adding \n",
            " at once his extinct\n",
            "when fellows and bloody frotten \n",
            " were thronged, and she would lion\n",
            "he'll come back som\n"
          ]
        }
      ]
    },
    {
      "cell_type": "code",
      "source": [
        "#@title Try your own Poem\n",
        "\n",
        "#@markdown Remember to load the pretrained model before running by running all steps except training (Insert step number)\n",
        "\n",
        "input_text = \"what is a house \"  # @param {type: \"string\"}\n",
        "n_characters_output = 300 #@param\n",
        "\n",
        "top_k_params = 0 #@param \n",
        "top_p_params = 0 #@param {type:\"slider\", min:0, max:1,step:0.01}\n",
        "temperature_params = 0 #@param\n",
        "\n",
        "print(generate_text(model, input_text=input_text, n_characters_output=n_characters_output, top_k_sampling = top_k_params,top_p_sampling = top_p_params, temperature = temperature_params))"
      ],
      "metadata": {
        "id": "VmPr71eqQosN",
        "colab": {
          "base_uri": "https://localhost:8080/"
        },
        "outputId": "63a81407-cbf1-4d37-c60b-0704584a4a29"
      },
      "execution_count": null,
      "outputs": [
        {
          "output_type": "stream",
          "name": "stdout",
          "text": [
            "what is a house that's firmer \n",
            " i would pity the weight of the cask \n",
            " yet thence his lustful orgies \n",
            " defluxit numerus saturnius, et grave virus\n",
            "aura aure then, with his smile for soft \n",
            " the story of the tower, who look well defended \n",
            " they say,  in the land of gosh \n",
            " no change, but passive ladder \n",
            " if our engers' \n"
          ]
        }
      ]
    },
    {
      "cell_type": "markdown",
      "source": [
        "Links to sources that helped me build the project:\n",
        "\n",
        "Allison Parrish Experiments:\n",
        "\n",
        "https://github.com/aparrish/gutenberg-poetry-corpus/blob/master/quick-experiments.ipynb\n",
        "\n",
        "Text Generation Shakespere by Oleksii Trekhleb:\n",
        "\n",
        "https://colab.research.google.com/github/trekhleb/machine-learning-experiments/blob/master/experiments/text_generation_shakespeare_rnn/text_generation_shakespeare_rnn.ipynb#scrollTo=ghB-VwLlD-Oz"
      ],
      "metadata": {
        "id": "wfWcO1wx0ZG9"
      }
    }
  ]
}